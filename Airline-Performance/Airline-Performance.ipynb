{
 "cells": [
  {
   "cell_type": "markdown",
   "id": "3e656dea-fd7b-48b6-9a05-7489140bc526",
   "metadata": {
    "editable": true,
    "slideshow": {
     "slide_type": ""
    },
    "tags": []
   },
   "source": [
    "# Plotly Charts"
   ]
  },
  {
   "cell_type": "code",
   "execution_count": 14,
   "id": "536a3409-2e3e-49c4-869d-26ddd60f8fb5",
   "metadata": {},
   "outputs": [],
   "source": [
    "import pandas as pd\n",
    "import plotly.express as px\n",
    "import plotly.graph_objects as go\n",
    "import numpy as np\n",
    "import dash \n",
    "from dash import dcc \n",
    "from dash import html\n",
    "from dash.dependencies import Input, Output"
   ]
  },
  {
   "cell_type": "markdown",
   "id": "126e16ac-0005-4986-9ef9-53622eb0cbd6",
   "metadata": {},
   "source": [
    "## Loading Dataset"
   ]
  },
  {
   "cell_type": "code",
   "execution_count": 16,
   "id": "04645655-7a83-48ec-b4d3-69c0d6544290",
   "metadata": {},
   "outputs": [
    {
     "data": {
      "text/html": [
       "<div>\n",
       "<style scoped>\n",
       "    .dataframe tbody tr th:only-of-type {\n",
       "        vertical-align: middle;\n",
       "    }\n",
       "\n",
       "    .dataframe tbody tr th {\n",
       "        vertical-align: top;\n",
       "    }\n",
       "\n",
       "    .dataframe thead th {\n",
       "        text-align: right;\n",
       "    }\n",
       "</style>\n",
       "<table border=\"1\" class=\"dataframe\">\n",
       "  <thead>\n",
       "    <tr style=\"text-align: right;\">\n",
       "      <th></th>\n",
       "      <th>Unnamed: 0</th>\n",
       "      <th>Year</th>\n",
       "      <th>Quarter</th>\n",
       "      <th>Month</th>\n",
       "      <th>DayofMonth</th>\n",
       "      <th>DayOfWeek</th>\n",
       "      <th>FlightDate</th>\n",
       "      <th>Reporting_Airline</th>\n",
       "      <th>DOT_ID_Reporting_Airline</th>\n",
       "      <th>IATA_CODE_Reporting_Airline</th>\n",
       "      <th>...</th>\n",
       "      <th>Div4WheelsOff</th>\n",
       "      <th>Div4TailNum</th>\n",
       "      <th>Div5Airport</th>\n",
       "      <th>Div5AirportID</th>\n",
       "      <th>Div5AirportSeqID</th>\n",
       "      <th>Div5WheelsOn</th>\n",
       "      <th>Div5TotalGTime</th>\n",
       "      <th>Div5LongestGTime</th>\n",
       "      <th>Div5WheelsOff</th>\n",
       "      <th>Div5TailNum</th>\n",
       "    </tr>\n",
       "  </thead>\n",
       "  <tbody>\n",
       "    <tr>\n",
       "      <th>0</th>\n",
       "      <td>1295781</td>\n",
       "      <td>1998</td>\n",
       "      <td>2</td>\n",
       "      <td>4</td>\n",
       "      <td>2</td>\n",
       "      <td>4</td>\n",
       "      <td>1998-04-02</td>\n",
       "      <td>AS</td>\n",
       "      <td>19930</td>\n",
       "      <td>AS</td>\n",
       "      <td>...</td>\n",
       "      <td>NaN</td>\n",
       "      <td>NaN</td>\n",
       "      <td>NaN</td>\n",
       "      <td>NaN</td>\n",
       "      <td>NaN</td>\n",
       "      <td>NaN</td>\n",
       "      <td>NaN</td>\n",
       "      <td>NaN</td>\n",
       "      <td>NaN</td>\n",
       "      <td>NaN</td>\n",
       "    </tr>\n",
       "    <tr>\n",
       "      <th>1</th>\n",
       "      <td>1125375</td>\n",
       "      <td>2013</td>\n",
       "      <td>2</td>\n",
       "      <td>5</td>\n",
       "      <td>13</td>\n",
       "      <td>1</td>\n",
       "      <td>2013-05-13</td>\n",
       "      <td>EV</td>\n",
       "      <td>20366</td>\n",
       "      <td>EV</td>\n",
       "      <td>...</td>\n",
       "      <td>NaN</td>\n",
       "      <td>NaN</td>\n",
       "      <td>NaN</td>\n",
       "      <td>NaN</td>\n",
       "      <td>NaN</td>\n",
       "      <td>NaN</td>\n",
       "      <td>NaN</td>\n",
       "      <td>NaN</td>\n",
       "      <td>NaN</td>\n",
       "      <td>NaN</td>\n",
       "    </tr>\n",
       "    <tr>\n",
       "      <th>2</th>\n",
       "      <td>118824</td>\n",
       "      <td>1993</td>\n",
       "      <td>3</td>\n",
       "      <td>9</td>\n",
       "      <td>25</td>\n",
       "      <td>6</td>\n",
       "      <td>1993-09-25</td>\n",
       "      <td>UA</td>\n",
       "      <td>19977</td>\n",
       "      <td>UA</td>\n",
       "      <td>...</td>\n",
       "      <td>NaN</td>\n",
       "      <td>NaN</td>\n",
       "      <td>NaN</td>\n",
       "      <td>NaN</td>\n",
       "      <td>NaN</td>\n",
       "      <td>NaN</td>\n",
       "      <td>NaN</td>\n",
       "      <td>NaN</td>\n",
       "      <td>NaN</td>\n",
       "      <td>NaN</td>\n",
       "    </tr>\n",
       "    <tr>\n",
       "      <th>3</th>\n",
       "      <td>634825</td>\n",
       "      <td>1994</td>\n",
       "      <td>4</td>\n",
       "      <td>11</td>\n",
       "      <td>12</td>\n",
       "      <td>6</td>\n",
       "      <td>1994-11-12</td>\n",
       "      <td>HP</td>\n",
       "      <td>19991</td>\n",
       "      <td>HP</td>\n",
       "      <td>...</td>\n",
       "      <td>NaN</td>\n",
       "      <td>NaN</td>\n",
       "      <td>NaN</td>\n",
       "      <td>NaN</td>\n",
       "      <td>NaN</td>\n",
       "      <td>NaN</td>\n",
       "      <td>NaN</td>\n",
       "      <td>NaN</td>\n",
       "      <td>NaN</td>\n",
       "      <td>NaN</td>\n",
       "    </tr>\n",
       "    <tr>\n",
       "      <th>4</th>\n",
       "      <td>1888125</td>\n",
       "      <td>2017</td>\n",
       "      <td>3</td>\n",
       "      <td>8</td>\n",
       "      <td>17</td>\n",
       "      <td>4</td>\n",
       "      <td>2017-08-17</td>\n",
       "      <td>UA</td>\n",
       "      <td>19977</td>\n",
       "      <td>UA</td>\n",
       "      <td>...</td>\n",
       "      <td>NaN</td>\n",
       "      <td>NaN</td>\n",
       "      <td>NaN</td>\n",
       "      <td>NaN</td>\n",
       "      <td>NaN</td>\n",
       "      <td>NaN</td>\n",
       "      <td>NaN</td>\n",
       "      <td>NaN</td>\n",
       "      <td>NaN</td>\n",
       "      <td>NaN</td>\n",
       "    </tr>\n",
       "  </tbody>\n",
       "</table>\n",
       "<p>5 rows × 110 columns</p>\n",
       "</div>"
      ],
      "text/plain": [
       "   Unnamed: 0  Year  Quarter  Month  DayofMonth  DayOfWeek  FlightDate  \\\n",
       "0     1295781  1998        2      4           2          4  1998-04-02   \n",
       "1     1125375  2013        2      5          13          1  2013-05-13   \n",
       "2      118824  1993        3      9          25          6  1993-09-25   \n",
       "3      634825  1994        4     11          12          6  1994-11-12   \n",
       "4     1888125  2017        3      8          17          4  2017-08-17   \n",
       "\n",
       "  Reporting_Airline  DOT_ID_Reporting_Airline IATA_CODE_Reporting_Airline  \\\n",
       "0                AS                     19930                          AS   \n",
       "1                EV                     20366                          EV   \n",
       "2                UA                     19977                          UA   \n",
       "3                HP                     19991                          HP   \n",
       "4                UA                     19977                          UA   \n",
       "\n",
       "   ... Div4WheelsOff  Div4TailNum  Div5Airport  Div5AirportID  \\\n",
       "0  ...           NaN          NaN          NaN            NaN   \n",
       "1  ...           NaN          NaN          NaN            NaN   \n",
       "2  ...           NaN          NaN          NaN            NaN   \n",
       "3  ...           NaN          NaN          NaN            NaN   \n",
       "4  ...           NaN          NaN          NaN            NaN   \n",
       "\n",
       "   Div5AirportSeqID Div5WheelsOn Div5TotalGTime Div5LongestGTime  \\\n",
       "0               NaN          NaN            NaN              NaN   \n",
       "1               NaN          NaN            NaN              NaN   \n",
       "2               NaN          NaN            NaN              NaN   \n",
       "3               NaN          NaN            NaN              NaN   \n",
       "4               NaN          NaN            NaN              NaN   \n",
       "\n",
       "   Div5WheelsOff Div5TailNum  \n",
       "0            NaN         NaN  \n",
       "1            NaN         NaN  \n",
       "2            NaN         NaN  \n",
       "3            NaN         NaN  \n",
       "4            NaN         NaN  \n",
       "\n",
       "[5 rows x 110 columns]"
      ]
     },
     "execution_count": 16,
     "metadata": {},
     "output_type": "execute_result"
    }
   ],
   "source": [
    "airline_data =  pd.read_csv('https://cf-courses-data.s3.us.cloud-object-storage.appdomain.cloud/IBMDeveloperSkillsNetwork-DV0101EN-SkillsNetwork/Data%20Files/airline_data.csv', \n",
    "                            encoding = \"ISO-8859-1\", dtype={'Div1Airport': str, 'Div1TailNum': str, 'Div2Airport': str, 'Div2TailNum': str})\n",
    "airline_data.head()"
   ]
  },
  {
   "cell_type": "code",
   "execution_count": 18,
   "id": "31822129-90df-45f2-a3d0-0e2dd01603c3",
   "metadata": {},
   "outputs": [
    {
     "data": {
      "text/plain": [
       "(27000, 110)"
      ]
     },
     "execution_count": 18,
     "metadata": {},
     "output_type": "execute_result"
    }
   ],
   "source": [
    "airline_data.shape"
   ]
  },
  {
   "cell_type": "code",
   "execution_count": 20,
   "id": "7c80f396-c863-4579-be9c-3afb33d737af",
   "metadata": {},
   "outputs": [
    {
     "data": {
      "text/plain": [
       "(27000, 110)"
      ]
     },
     "execution_count": 20,
     "metadata": {},
     "output_type": "execute_result"
    }
   ],
   "source": [
    "data = airline_data.sample(n=27000, random_state=42)\n",
    "data.shape"
   ]
  },
  {
   "cell_type": "code",
   "execution_count": 22,
   "id": "ee86ad1c-820b-4ad6-92ab-8f5e16509748",
   "metadata": {},
   "outputs": [
    {
     "data": {
      "text/plain": [
       "5312      3\n",
       "18357     8\n",
       "6428      7\n",
       "15414    10\n",
       "10610     2\n",
       "         ..\n",
       "21575    12\n",
       "5390     11\n",
       "860       1\n",
       "15795    11\n",
       "23654     5\n",
       "Name: Month, Length: 27000, dtype: int64"
      ]
     },
     "execution_count": 22,
     "metadata": {},
     "output_type": "execute_result"
    }
   ],
   "source": [
    "data.Month"
   ]
  },
  {
   "cell_type": "code",
   "execution_count": 24,
   "id": "1367d791-080b-4b1b-99eb-f724312f78a5",
   "metadata": {},
   "outputs": [],
   "source": [
    "data1 = airline_data.sample(n=1000, random_state=42)"
   ]
  },
  {
   "cell_type": "markdown",
   "id": "1153f7fe-316e-4a89-accc-ce6bef95b9d5",
   "metadata": {},
   "source": [
    "### Plot 1"
   ]
  },
  {
   "cell_type": "code",
   "execution_count": 54,
   "id": "44a9f8e1-1bf4-4af3-8ae6-4a7714bc01b3",
   "metadata": {},
   "outputs": [],
   "source": [
    "px.scatter(data_frame=data1, title=\"Distance vs Departure Time\", x=\"Distance\", y=\"DepTime\", color_discrete_sequence=[\"red\"])"
   ]
  },
  {
   "cell_type": "markdown",
   "id": "d21a407d-e21c-43e1-bbe0-3b3736a6b169",
   "metadata": {},
   "source": [
    "### Plot 2"
   ]
  },
  {
   "cell_type": "code",
   "execution_count": 56,
   "id": "a0ef01a9-9dde-4625-8f03-7eac5605fdab",
   "metadata": {},
   "outputs": [],
   "source": [
    "df= data1.groupby(\"Month\")[\"ArrDelay\"].mean().reset_index()\n",
    "px.line(data_frame=df, title=\"Month vs Average Flight Delay Time\", x=\"Month\", y=\"ArrDelay\", color_discrete_sequence=[\"green\"])"
   ]
  },
  {
   "cell_type": "markdown",
   "id": "83bc8653-4adb-4e82-bde8-2f220ef1185e",
   "metadata": {},
   "source": [
    "### Plot 3"
   ]
  },
  {
   "cell_type": "code",
   "execution_count": 58,
   "id": "51a4fb86-7cf4-48c4-911f-99e8fd9ba97e",
   "metadata": {},
   "outputs": [],
   "source": [
    "df2= data1.groupby(\"DestState\")[\"Flights\"].sum().reset_index()\n",
    "px.bar(data_frame=df2, x=\"DestState\", y=\"Flights\", title=\"Total number of flights to the destination state split by reporting air\")"
   ]
  },
  {
   "cell_type": "markdown",
   "id": "dc4d57e4-1886-4085-bd57-cb5c66bb2e07",
   "metadata": {},
   "source": [
    "### Plot 4"
   ]
  },
  {
   "cell_type": "code",
   "execution_count": 60,
   "id": "27360930-92ad-4c72-b3ca-b1f44afbdc45",
   "metadata": {},
   "outputs": [],
   "source": [
    "data1[\"ArrDelay\"] = data1[\"ArrDelay\"].fillna(0)\n",
    "px.histogram(title=\"Total number of flights to the destination state split by reporting air\", x=\"ArrDelay\", data_frame=data1)"
   ]
  },
  {
   "cell_type": "markdown",
   "id": "50d531b6-9758-4e04-bc62-e7d2cb500ecb",
   "metadata": {},
   "source": [
    "### Plot 5"
   ]
  },
  {
   "cell_type": "code",
   "execution_count": 62,
   "id": "38ea6304-d2a0-4513-9c1b-0e9903e0c195",
   "metadata": {
    "editable": true,
    "slideshow": {
     "slide_type": ""
    },
    "tags": []
   },
   "outputs": [],
   "source": [
    "df4 = data1.groupby(\"Reporting_Airline\")[\"Flights\"].sum().reset_index()\n",
    "px.scatter(x=\"Reporting_Airline\", y=\"Flights\", data_frame=df4, size=\"Flights\", size_max=70, hover_name=\"Reporting_Airline\")"
   ]
  },
  {
   "cell_type": "markdown",
   "id": "60bebd34-df21-4434-b02f-ea4a733c5fb9",
   "metadata": {},
   "source": [
    "### Plot 6"
   ]
  },
  {
   "cell_type": "code",
   "execution_count": 64,
   "id": "7a8e366b-c099-4f59-9fdb-1d393f636404",
   "metadata": {},
   "outputs": [],
   "source": [
    "df5= data1[\"DestCityName\"].value_counts().head(10).reset_index()\n",
    "px.pie(values=\"count\", names=\"DestCityName\", title=\"DestCityName proportion\", data_frame=df5)"
   ]
  },
  {
   "cell_type": "markdown",
   "id": "94bcc6a1-b688-439a-ba23-3db9db82d7ad",
   "metadata": {},
   "source": [
    "### Plot 7"
   ]
  },
  {
   "cell_type": "code",
   "execution_count": 66,
   "id": "fb1ab905-f7e4-470a-9c23-b8a13a08924a",
   "metadata": {},
   "outputs": [],
   "source": [
    "grouped_data = data1.groupby(['Month', 'DistanceGroup']).size().reset_index(name='Count')\n",
    "px.sunburst(grouped_data, path=['Month', 'DistanceGroup'], values='Count', title=\"Distance group proportion by month\")"
   ]
  },
  {
   "cell_type": "markdown",
   "id": "feb15f78-2fb8-43c0-b539-a0f21b2a2650",
   "metadata": {},
   "source": [
    "### Plot 8"
   ]
  },
  {
   "cell_type": "code",
   "execution_count": 68,
   "id": "e8299185-71e0-4ae9-8870-6eaa1330e47e",
   "metadata": {},
   "outputs": [],
   "source": [
    "grouped_data1 = data1.groupby(['Month', 'DestStateName'])[\"Flights\"].sum().reset_index()\n",
    "px.sunburst(grouped_data1, path=['Month', 'DestStateName'], values='Flights', title=\"Flight Distribution Hierarchy\")"
   ]
  },
  {
   "cell_type": "markdown",
   "id": "270dc6e7-79c1-4de5-b8f1-107826635cef",
   "metadata": {},
   "source": [
    "### Plot 9"
   ]
  },
  {
   "cell_type": "code",
   "execution_count": 70,
   "id": "f5743064-3aaf-413f-836d-b6203457637b",
   "metadata": {},
   "outputs": [],
   "source": [
    "fig = px.pie(data, values='Flights', names='DistanceGroup', title='Distance group proportion by flights')\n",
    "\n",
    "app = dash.Dash(__name__)\n",
    "app.layout = html.Div(children=[html.H1('Airline Performance Dashboard',style={'textAlign': 'center', 'color': '#503D36', 'font-size': 30}), \n",
    "                                html.Div([\"Input Year: \", dcc.Input(id='input-year', value='2010', type='number', style={'height':'40px', 'font-size': 15})], \n",
    "                                         style={'font-size': 20}),\n",
    "                                html.Br(), \n",
    "                                html.Br(), \n",
    "                                html.Div(dcc.Graph(id='line-plot'))])\n",
    "if __name__ == '__main__': \n",
    "    app.run()"
   ]
  },
  {
   "cell_type": "markdown",
   "id": "adfa7e22-fc17-480e-8394-bf5f9a7e777e",
   "metadata": {},
   "source": [
    "### Plot 10"
   ]
  },
  {
   "cell_type": "code",
   "execution_count": 72,
   "id": "0c23a238-d660-4382-a7fe-b3ce73b02710",
   "metadata": {},
   "outputs": [],
   "source": [
    "app = dash.Dash(__name__)\n",
    "\n",
    "app.layout = html.Div(children=[html.H1('Airline Performance Dashboard',style={'textAlign': 'center', 'color': '#503D36', 'font-size': 30}), \n",
    "                                html.Div([\"Input Year: \", dcc.Input(id='input-year', value='2010', type='number', style={'height':'30px', 'font-size': 15})], \n",
    "                                         style={'font-size': 20}),\n",
    "                                html.Br(), \n",
    "                                html.Br(), \n",
    "                                html.Div(dcc.Graph(id='line-plot'))])\n",
    "\n",
    "\n",
    "@app.callback(Output(component_id='line-plot', component_property='figure'), Input(component_id='input-year', component_property='value'))\n",
    "\n",
    "# Add computation to callback function and return graph\n",
    "def get_graph(entered_year): \n",
    "    # Select 2019 data \n",
    "    df = data[data['Year']==int(entered_year)] \n",
    "    # Group the data by Month and compute average over arrival delay time. \n",
    "    line_data = df.groupby('Month')['ArrDelay'].mean().reset_index() \n",
    "    fig = go.Figure(data=go.Scatter(x=line_data['Month'], y=line_data['ArrDelay'], mode='lines', marker=dict(color='green'))) \n",
    "    fig.update_layout(title='Month vs Average Flight Delay Time', xaxis_title='Month', yaxis_title='ArrDelay') \n",
    "    return fig\n",
    "\n",
    "\n",
    "\n",
    "if __name__ == '__main__': \n",
    "    app.run()"
   ]
  },
  {
   "cell_type": "markdown",
   "id": "28e84cc7-d7b1-4f45-8475-83c3edc26e02",
   "metadata": {},
   "source": [
    "### Plot 11"
   ]
  },
  {
   "cell_type": "code",
   "execution_count": 74,
   "id": "803dcbfc-84cc-4d37-b914-a5d2f69eab4f",
   "metadata": {},
   "outputs": [],
   "source": [
    "app = dash.Dash(__name__)\n",
    "\n",
    "app.layout = html.Div(children=[html.H1('Total number of flights to the destination state split by reporting air',style={'textAlign': 'center', 'color': '#503D36', 'font-size': 30}), \n",
    "                                html.Div(dcc.Dropdown(options=[{'label': 'Option 1', 'value': '1'}, {'label': 'Option 2', 'value': '2'}], value='1')),\n",
    "                                html.Div([\"Input Year: \", dcc.Input(id='input-year', value='2010', type='number', style={'height':'50px', 'font-size': 15})], \n",
    "                                         style={'font-size': 20}),\n",
    "                                html.Br(), \n",
    "                                html.Br(), \n",
    "                                html.Div(dcc.Graph(id='bar-plot'))])\n",
    "\n",
    "\n",
    "@app.callback(Output(component_id='bar-plot', component_property='figure'), Input(component_id='input-year', component_property='value'))\n",
    "\n",
    "# Add computation to callback function and return graph\n",
    "def get_graph(entered_year): \n",
    "    # Select 2019 data \n",
    "    df = data[data['Year']==int(entered_year)] \n",
    "    # Group the data by Month and compute average over arrival delay time. \n",
    "    bar_data = df.groupby(['DestState', 'Reporting_Airline'])['Flights'].sum().reset_index() \n",
    "    fig = px.bar(data_frame=bar_data, x='DestState', y='Flights', hover_name=\"Reporting_Airline\") \n",
    "    fig.update_layout(title='Flights to Destination State', xaxis_title='Destination State', yaxis_title='Flights') \n",
    "    return fig\n",
    "\n",
    "\n",
    "\n",
    "if __name__ == '__main__': \n",
    "    app.run()"
   ]
  },
  {
   "cell_type": "markdown",
   "id": "13484edb-65c5-4d83-80c6-7e0638930c21",
   "metadata": {},
   "source": [
    "### Plot 12"
   ]
  },
  {
   "cell_type": "code",
   "execution_count": 85,
   "id": "60068e98-9e42-4b0e-b43c-43793f6616ff",
   "metadata": {},
   "outputs": [],
   "source": [
    "app = dash.Dash(__name__)\n",
    "app.layout = html.Div(children=[\n",
    "    html.H1('Flight Delay Time Statistics', style={\n",
    "        'textAlign': 'center', 'color': '#503D36', 'font-size': 30}),\n",
    "    \n",
    "    html.Div([\n",
    "        \"Input Year: \", \n",
    "        dcc.Input(id='input-year', value='2010', type='number',\n",
    "                  style={'height': '35px', 'font-size': 20}),\n",
    "    ], style={'font-size': 20, 'margin': '20px'}),\n",
    "    \n",
    "    html.Div([\n",
    "        dcc.Graph(id='carrier-plot', style={'width': '100%', 'padding': '10px'}),\n",
    "        dcc.Graph(id='weather-plot', style={'width': '100%', 'padding': '10px'}),\n",
    "        dcc.Graph(id='nas-plot', style={'width': '100%', 'padding': '10px'}),\n",
    "        dcc.Graph(id='security-plot', style={'width': '100%', 'padding': '10px'}),\n",
    "        dcc.Graph(id='late-plot', style={'width': '100%', 'padding': '10px'})\n",
    "    ], style={'display': 'flex', 'flexDirection': 'column', 'flexWrap': 'wrap'})\n",
    "])\n",
    "\n",
    "def compute_info(data, entered_year): \n",
    "    \"\"\"\n",
    "    This function takes in airline data and selected year as an input and performs computation for creating charts and plots.\n",
    "    Arguments: \n",
    "    airline_data: Input airline data. \n",
    "    entered_year: Input year for which computation needs to be performed. \n",
    "    Returns: \n",
    "    Computed average dataframes for carrier delay, weather delay, NAS delay, security delay, and late aircraft delay.\n",
    "    \"\"\"\n",
    "    df = data[data['Year']==int(entered_year)] \n",
    "    # Compute delay averages \n",
    "    avg_car = df.groupby(['Month','Reporting_Airline'])['CarrierDelay'].mean().reset_index() \n",
    "    avg_weather = df.groupby(['Month','Reporting_Airline'])['WeatherDelay'].mean().reset_index() \n",
    "    avg_NAS = df.groupby(['Month','Reporting_Airline'])['NASDelay'].mean().reset_index() \n",
    "    avg_sec = df.groupby(['Month','Reporting_Airline'])['SecurityDelay'].mean().reset_index() \n",
    "    avg_late = df.groupby(['Month','Reporting_Airline'])['LateAircraftDelay'].mean().reset_index() \n",
    "    return avg_car, avg_weather, avg_NAS, avg_sec, avg_late\n",
    "    \n",
    "\"\"\"Callback Function\n",
    "Function that returns fugures using the provided input year.\n",
    "Arguments: \n",
    "entered_year: Input year provided by the user. \n",
    "\n",
    "\n",
    "Returns: \n",
    "List of figures computed using the provided helper function `compute_info`.\n",
    "\"\"\"\n",
    "# Callback decorator\n",
    "@app.callback([Output(component_id='carrier-plot', component_property='figure'), \n",
    "               Output(component_id='weather-plot', component_property='figure'), \n",
    "               Output(component_id='nas-plot', component_property='figure'), \n",
    "               Output(component_id='security-plot', component_property='figure'), \n",
    "               Output(component_id='late-plot', component_property='figure')], \n",
    "              Input(component_id='input-year', component_property='value'))\n",
    "def get_graph(entered_year): \n",
    "    # Compute required information for creating graph from the data \n",
    "    avg_car, avg_weather, avg_NAS, avg_sec, avg_late = compute_info(data, entered_year) \n",
    "    # Line plot for carrier delay \n",
    "    carrier_fig = px.bar(avg_car, x='Month', y='CarrierDelay', color='Reporting_Airline', title='Average carrrier delay time (minutes) by airline') \n",
    "    # Line plot for weather delay \n",
    "    weather_fig = px.bar(avg_weather, x='Month', y='WeatherDelay', color='Reporting_Airline', title='Average weather delay time (minutes) by airline') \n",
    "    # Line plot for nas delay \n",
    "    nas_fig = px.bar(avg_NAS, x='Month', y='NASDelay', color='Reporting_Airline', title='Average NAS delay time (minutes) by airline') \n",
    "    # Line plot for security delay \n",
    "    sec_fig = px.scatter(avg_sec, x='Month', y='SecurityDelay', color='Reporting_Airline', title='Average security delay time (minutes) by airline') \n",
    "    # Line plot for late aircraft delay \n",
    "    late_fig = px.bar(avg_late, x='Month', y='LateAircraftDelay', color='Reporting_Airline', title='Average late aircraft delay time (minutes) by airline') \n",
    "    return[carrier_fig, weather_fig, nas_fig, sec_fig, late_fig]\n",
    "\n",
    "\n",
    "if __name__ == '__main__': \n",
    "    app.run()"
   ]
  },
  {
   "cell_type": "code",
   "execution_count": null,
   "id": "154bf675-9df8-49da-b490-402922b865b4",
   "metadata": {},
   "outputs": [],
   "source": []
  }
 ],
 "metadata": {
  "kernelspec": {
   "display_name": "Python 3 (ipykernel)",
   "language": "python",
   "name": "python3"
  },
  "language_info": {
   "codemirror_mode": {
    "name": "ipython",
    "version": 3
   },
   "file_extension": ".py",
   "mimetype": "text/x-python",
   "name": "python",
   "nbconvert_exporter": "python",
   "pygments_lexer": "ipython3",
   "version": "3.12.4"
  }
 },
 "nbformat": 4,
 "nbformat_minor": 5
}
