{
 "cells": [
  {
   "cell_type": "code",
   "execution_count": 9,
   "id": "636ad9b4-4480-45da-a957-855a0fb48a4a",
   "metadata": {},
   "outputs": [],
   "source": [
    "import pandas as pd\n",
    "import numpy as np"
   ]
  },
  {
   "cell_type": "code",
   "execution_count": 15,
   "id": "33d9136d-b109-4858-8640-82c6bfa80248",
   "metadata": {},
   "outputs": [
    {
     "data": {
      "text/plain": [
       "array(['35.56', '39.624', '33.782', '38.1', '33.02', '43.942', '43.18',\n",
       "       '31.75', '30.48', '?'], dtype=object)"
      ]
     },
     "execution_count": 15,
     "metadata": {},
     "output_type": "execute_result"
    }
   ],
   "source": [
    "filepath = \"https://cf-courses-data.s3.us.cloud-object-storage.appdomain.cloud/IBMDeveloperSkillsNetwork-DA0101EN-Coursera/laptop_pricing_dataset_base.csv\"\n",
    "df = pd.read_csv(filepath, header=None)\n",
    "headers = [\"Manufacturer\", \"Category\", \"Screen\", \"GPU\", \"OS\", \"CPU_core\", \"Screen_Size_inch\", \"CPU_frequency\", \"RAM_GB\", \"Storage_GB_SSD\", \"Weight_kg\", \"Price\"]\n",
    "df.columns = headers\n",
    "df[\"Screen_Size_inch\"].unique()"
   ]
  },
  {
   "cell_type": "code",
   "execution_count": 21,
   "id": "6980f5a2-1e81-4746-9f10-acf6fb754137",
   "metadata": {},
   "outputs": [
    {
     "name": "stdout",
     "output_type": "stream",
     "text": [
      "<class 'pandas.core.frame.DataFrame'>\n",
      "RangeIndex: 238 entries, 0 to 237\n",
      "Data columns (total 12 columns):\n",
      " #   Column            Non-Null Count  Dtype  \n",
      "---  ------            --------------  -----  \n",
      " 0   Manufacturer      238 non-null    object \n",
      " 1   Category          238 non-null    int64  \n",
      " 2   Screen            238 non-null    object \n",
      " 3   GPU               238 non-null    int64  \n",
      " 4   OS                238 non-null    int64  \n",
      " 5   CPU_core          238 non-null    int64  \n",
      " 6   Screen_Size_inch  234 non-null    object \n",
      " 7   CPU_frequency     238 non-null    float64\n",
      " 8   RAM_GB            238 non-null    int64  \n",
      " 9   Storage_GB_SSD    238 non-null    int64  \n",
      " 10  Weight_kg         233 non-null    object \n",
      " 11  Price             238 non-null    int64  \n",
      "dtypes: float64(1), int64(7), object(4)\n",
      "memory usage: 22.4+ KB\n"
     ]
    }
   ],
   "source": [
    "df.replace('?',np.NaN, inplace=True)\n",
    "df.info()"
   ]
  },
  {
   "cell_type": "code",
   "execution_count": 24,
   "id": "d62330c3-6883-4baf-b729-4d4a90003fae",
   "metadata": {},
   "outputs": [
    {
     "data": {
      "text/plain": [
       "Manufacturer         object\n",
       "Category              int64\n",
       "Screen               object\n",
       "GPU                   int64\n",
       "OS                    int64\n",
       "CPU_core              int64\n",
       "Screen_Size_inch     object\n",
       "CPU_frequency       float64\n",
       "RAM_GB                int64\n",
       "Storage_GB_SSD        int64\n",
       "Weight_kg            object\n",
       "Price                 int64\n",
       "dtype: object"
      ]
     },
     "execution_count": 24,
     "metadata": {},
     "output_type": "execute_result"
    }
   ],
   "source": [
    "df.dtypes"
   ]
  }
 ],
 "metadata": {
  "kernelspec": {
   "display_name": "Python 3 (ipykernel)",
   "language": "python",
   "name": "python3"
  },
  "language_info": {
   "codemirror_mode": {
    "name": "ipython",
    "version": 3
   },
   "file_extension": ".py",
   "mimetype": "text/x-python",
   "name": "python",
   "nbconvert_exporter": "python",
   "pygments_lexer": "ipython3",
   "version": "3.12.4"
  }
 },
 "nbformat": 4,
 "nbformat_minor": 5
}
