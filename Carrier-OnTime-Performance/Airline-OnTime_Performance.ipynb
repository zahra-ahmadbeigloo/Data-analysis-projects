{
 "cells": [
  {
   "cell_type": "markdown",
   "id": "3e656dea-fd7b-48b6-9a05-7489140bc526",
   "metadata": {},
   "source": [
    "# Plotly Charts"
   ]
  },
  {
   "cell_type": "code",
   "execution_count": 6,
   "id": "536a3409-2e3e-49c4-869d-26ddd60f8fb5",
   "metadata": {},
   "outputs": [],
   "source": [
    "import pandas as pd\n",
    "import plotly.express as px\n",
    "import plotly.graph_objects as go\n",
    "import numpy as np"
   ]
  },
  {
   "cell_type": "markdown",
   "id": "126e16ac-0005-4986-9ef9-53622eb0cbd6",
   "metadata": {},
   "source": [
    "## Scatter Plot (Using plotly.graph_object)"
   ]
  },
  {
   "cell_type": "markdown",
   "id": "7d5cdbec-6c15-43f8-8fbe-f7494bf5a574",
   "metadata": {},
   "source": [
    "### Plot 1"
   ]
  },
  {
   "cell_type": "code",
   "execution_count": 260,
   "id": "5bef97f0-aa56-4610-b7ff-8aa0f913258e",
   "metadata": {},
   "outputs": [],
   "source": [
    "age = np.random.randint(25,55,60)\n",
    "income = np.random.randint(300000,700000,3000000)\n",
    "\n",
    "fig=go.Figure()\n",
    "fig.add_trace(go.Scatter(x=age, y=income, mode='markers', marker=dict(color='blue')))\n",
    "fig.update_layout(title='Economic Survey', xaxis_title='Age', yaxis_title='Income')"
   ]
  },
  {
   "cell_type": "markdown",
   "id": "cea1fe61-ca48-4dfe-8a33-7b9ced0b06cf",
   "metadata": {},
   "source": [
    "## Line Plot (Using plotly.graph_object)"
   ]
  },
  {
   "cell_type": "markdown",
   "id": "6c81d1be-87ba-4196-a7ab-76bbf84fc007",
   "metadata": {},
   "source": [
    "### Plot 2"
   ]
  },
  {
   "cell_type": "code",
   "execution_count": 262,
   "id": "ee99f250-0d38-4eef-ae17-f965f19d0701",
   "metadata": {},
   "outputs": [],
   "source": [
    "No_bicycle=[50,100,40,150,160,70,60,45]\n",
    "months=[\"Jan\",\"Feb\",\"Mar\",\"April\",\"May\",\"June\",\"July\",\"August\"]\n",
    "\n",
    "fig=go.Figure()\n",
    "fig.add_trace(go.Scatter(x=months, y=No_bicycle, mode='lines', marker=dict(color='green')))\n",
    "fig.update_layout(title='Bicycle Sales', xaxis_title='Months', yaxis_title='Number of Bicycles Sold')"
   ]
  },
  {
   "cell_type": "markdown",
   "id": "4c56d125-be01-4381-8237-268d935ff523",
   "metadata": {},
   "source": [
    "## Bar Plot (Using plotly.express)"
   ]
  },
  {
   "cell_type": "markdown",
   "id": "86d5ffe7-2103-47ef-9f3c-eb58b52d149d",
   "metadata": {},
   "source": [
    "### Plot 3"
   ]
  },
  {
   "cell_type": "code",
   "execution_count": 264,
   "id": "5af54c4e-ec2f-4a64-b4a6-7d2f4efdf5d2",
   "metadata": {},
   "outputs": [],
   "source": [
    "score_array=[80,90,56,88,95]\n",
    "grade_array=['Grade 6','Grade 7','Grade 8','Grade 9','Grade 10']\n",
    "\n",
    "px.bar( x=grade_array, y=score_array, title='Pass Percentage of Classes') "
   ]
  },
  {
   "cell_type": "markdown",
   "id": "b9a4ba57-8064-4a1c-9cb1-4ad2c9ba3ec9",
   "metadata": {},
   "source": [
    "## Histogram (Using plotly.express)"
   ]
  },
  {
   "cell_type": "markdown",
   "id": "afc7e603-3c88-490d-afbf-4fd9323d7f9e",
   "metadata": {},
   "source": [
    "### Plot 4"
   ]
  },
  {
   "cell_type": "code",
   "execution_count": 266,
   "id": "8f136106-1801-4c7c-84e7-714cff64782a",
   "metadata": {},
   "outputs": [],
   "source": [
    "heights = np.random.normal(160, 11, 200)\n",
    "\n",
    "px.histogram(x=heights,title=\"Distribution of Heights\")"
   ]
  },
  {
   "cell_type": "markdown",
   "id": "40bf3a52-cb49-4754-a7c9-66d662649a4e",
   "metadata": {},
   "source": [
    "## Bubble Plot (Using plotly.express)"
   ]
  },
  {
   "cell_type": "markdown",
   "id": "9b308240-e42d-4d13-a68f-0079825c3d7b",
   "metadata": {},
   "source": [
    "### Plot 5"
   ]
  },
  {
   "cell_type": "code",
   "execution_count": 270,
   "id": "edd1abbf-e088-45e7-9ecd-b8fd432f44e3",
   "metadata": {},
   "outputs": [],
   "source": [
    "crime = {'City' : ['Chicago', 'Chicago', 'Austin', 'Austin','Seattle','Seattle'],\n",
    "                 'Numberofcrimes' : [1000, 1200, 400, 700,350,1500],\n",
    "                 'Year' : ['2007', '2008', '2007', '2008','2007','2008'],}\n",
    "df = pd.DataFrame(crime)\n",
    "df1 = df[[\"Numberofcrimes\", \"City\"]].groupby('City').sum().reset_index()\n",
    "\n",
    "px.scatter(df1, x=\"City\", y=\"Numberofcrimes\", size=\"Numberofcrimes\", hover_name=\"City\", title='Crime Statistics', size_max=70)"
   ]
  },
  {
   "cell_type": "markdown",
   "id": "60a93995-8918-4e37-ad75-1fc416455bbc",
   "metadata": {},
   "source": [
    "## Pie Plot (Using plotly.express)"
   ]
  },
  {
   "cell_type": "markdown",
   "id": "b6c12296-c60b-4f43-8e62-658e56734c9e",
   "metadata": {},
   "source": [
    "### Plot 6"
   ]
  },
  {
   "cell_type": "code",
   "execution_count": 272,
   "id": "b27e8792-1d35-45ae-9fb1-0c693deba926",
   "metadata": {},
   "outputs": [],
   "source": [
    "percent= [20, 50, 10,8,12]\n",
    "categories = ['Grocery', 'Rent', 'School Fees','Transport','Savings']\n",
    "\n",
    "px.pie(values=percent, names=categories, title='Household Expenditure')"
   ]
  },
  {
   "cell_type": "markdown",
   "id": "e2268640-3234-48f5-b20f-97c6db9e151f",
   "metadata": {},
   "source": [
    "## Sunburst Charts (Using plotly.express)"
   ]
  },
  {
   "cell_type": "markdown",
   "id": "814f7d9e-55a6-4c12-ac21-d8c7b598e592",
   "metadata": {},
   "source": [
    "### Plot 7"
   ]
  },
  {
   "cell_type": "code",
   "execution_count": 274,
   "id": "e890fe15-fd76-4271-9501-ed972cad19fc",
   "metadata": {},
   "outputs": [],
   "source": [
    "data = dict(character=[\"Eve\", \"Cain\", \"Seth\", \"Enos\", \"Noam\", \"Abel\", \"Awan\", \"Enoch\", \"Azura\"],\n",
    "            parent=[\"\", \"Eve\", \"Eve\", \"Seth\", \"Seth\", \"Eve\", \"Eve\", \"Awan\", \"Eve\" ],\n",
    "            value=[10, 14, 12, 10, 2, 6, 6, 4, 4])\n",
    "\n",
    "px.sunburst(data, names='character', parents='parent', values='value', title=\"Family chart\")"
   ]
  },
  {
   "cell_type": "markdown",
   "id": "3b86b8f5-59fa-43e4-ab94-f405e09ffb5a",
   "metadata": {},
   "source": [
    "## Airline Dataset"
   ]
  },
  {
   "cell_type": "code",
   "execution_count": 81,
   "id": "04645655-7a83-48ec-b4d3-69c0d6544290",
   "metadata": {},
   "outputs": [
    {
     "data": {
      "text/html": [
       "<div>\n",
       "<style scoped>\n",
       "    .dataframe tbody tr th:only-of-type {\n",
       "        vertical-align: middle;\n",
       "    }\n",
       "\n",
       "    .dataframe tbody tr th {\n",
       "        vertical-align: top;\n",
       "    }\n",
       "\n",
       "    .dataframe thead th {\n",
       "        text-align: right;\n",
       "    }\n",
       "</style>\n",
       "<table border=\"1\" class=\"dataframe\">\n",
       "  <thead>\n",
       "    <tr style=\"text-align: right;\">\n",
       "      <th></th>\n",
       "      <th>Unnamed: 0</th>\n",
       "      <th>Year</th>\n",
       "      <th>Quarter</th>\n",
       "      <th>Month</th>\n",
       "      <th>DayofMonth</th>\n",
       "      <th>DayOfWeek</th>\n",
       "      <th>FlightDate</th>\n",
       "      <th>Reporting_Airline</th>\n",
       "      <th>DOT_ID_Reporting_Airline</th>\n",
       "      <th>IATA_CODE_Reporting_Airline</th>\n",
       "      <th>...</th>\n",
       "      <th>Div4WheelsOff</th>\n",
       "      <th>Div4TailNum</th>\n",
       "      <th>Div5Airport</th>\n",
       "      <th>Div5AirportID</th>\n",
       "      <th>Div5AirportSeqID</th>\n",
       "      <th>Div5WheelsOn</th>\n",
       "      <th>Div5TotalGTime</th>\n",
       "      <th>Div5LongestGTime</th>\n",
       "      <th>Div5WheelsOff</th>\n",
       "      <th>Div5TailNum</th>\n",
       "    </tr>\n",
       "  </thead>\n",
       "  <tbody>\n",
       "    <tr>\n",
       "      <th>0</th>\n",
       "      <td>1295781</td>\n",
       "      <td>1998</td>\n",
       "      <td>2</td>\n",
       "      <td>4</td>\n",
       "      <td>2</td>\n",
       "      <td>4</td>\n",
       "      <td>1998-04-02</td>\n",
       "      <td>AS</td>\n",
       "      <td>19930</td>\n",
       "      <td>AS</td>\n",
       "      <td>...</td>\n",
       "      <td>NaN</td>\n",
       "      <td>NaN</td>\n",
       "      <td>NaN</td>\n",
       "      <td>NaN</td>\n",
       "      <td>NaN</td>\n",
       "      <td>NaN</td>\n",
       "      <td>NaN</td>\n",
       "      <td>NaN</td>\n",
       "      <td>NaN</td>\n",
       "      <td>NaN</td>\n",
       "    </tr>\n",
       "    <tr>\n",
       "      <th>1</th>\n",
       "      <td>1125375</td>\n",
       "      <td>2013</td>\n",
       "      <td>2</td>\n",
       "      <td>5</td>\n",
       "      <td>13</td>\n",
       "      <td>1</td>\n",
       "      <td>2013-05-13</td>\n",
       "      <td>EV</td>\n",
       "      <td>20366</td>\n",
       "      <td>EV</td>\n",
       "      <td>...</td>\n",
       "      <td>NaN</td>\n",
       "      <td>NaN</td>\n",
       "      <td>NaN</td>\n",
       "      <td>NaN</td>\n",
       "      <td>NaN</td>\n",
       "      <td>NaN</td>\n",
       "      <td>NaN</td>\n",
       "      <td>NaN</td>\n",
       "      <td>NaN</td>\n",
       "      <td>NaN</td>\n",
       "    </tr>\n",
       "    <tr>\n",
       "      <th>2</th>\n",
       "      <td>118824</td>\n",
       "      <td>1993</td>\n",
       "      <td>3</td>\n",
       "      <td>9</td>\n",
       "      <td>25</td>\n",
       "      <td>6</td>\n",
       "      <td>1993-09-25</td>\n",
       "      <td>UA</td>\n",
       "      <td>19977</td>\n",
       "      <td>UA</td>\n",
       "      <td>...</td>\n",
       "      <td>NaN</td>\n",
       "      <td>NaN</td>\n",
       "      <td>NaN</td>\n",
       "      <td>NaN</td>\n",
       "      <td>NaN</td>\n",
       "      <td>NaN</td>\n",
       "      <td>NaN</td>\n",
       "      <td>NaN</td>\n",
       "      <td>NaN</td>\n",
       "      <td>NaN</td>\n",
       "    </tr>\n",
       "    <tr>\n",
       "      <th>3</th>\n",
       "      <td>634825</td>\n",
       "      <td>1994</td>\n",
       "      <td>4</td>\n",
       "      <td>11</td>\n",
       "      <td>12</td>\n",
       "      <td>6</td>\n",
       "      <td>1994-11-12</td>\n",
       "      <td>HP</td>\n",
       "      <td>19991</td>\n",
       "      <td>HP</td>\n",
       "      <td>...</td>\n",
       "      <td>NaN</td>\n",
       "      <td>NaN</td>\n",
       "      <td>NaN</td>\n",
       "      <td>NaN</td>\n",
       "      <td>NaN</td>\n",
       "      <td>NaN</td>\n",
       "      <td>NaN</td>\n",
       "      <td>NaN</td>\n",
       "      <td>NaN</td>\n",
       "      <td>NaN</td>\n",
       "    </tr>\n",
       "    <tr>\n",
       "      <th>4</th>\n",
       "      <td>1888125</td>\n",
       "      <td>2017</td>\n",
       "      <td>3</td>\n",
       "      <td>8</td>\n",
       "      <td>17</td>\n",
       "      <td>4</td>\n",
       "      <td>2017-08-17</td>\n",
       "      <td>UA</td>\n",
       "      <td>19977</td>\n",
       "      <td>UA</td>\n",
       "      <td>...</td>\n",
       "      <td>NaN</td>\n",
       "      <td>NaN</td>\n",
       "      <td>NaN</td>\n",
       "      <td>NaN</td>\n",
       "      <td>NaN</td>\n",
       "      <td>NaN</td>\n",
       "      <td>NaN</td>\n",
       "      <td>NaN</td>\n",
       "      <td>NaN</td>\n",
       "      <td>NaN</td>\n",
       "    </tr>\n",
       "  </tbody>\n",
       "</table>\n",
       "<p>5 rows × 110 columns</p>\n",
       "</div>"
      ],
      "text/plain": [
       "   Unnamed: 0  Year  Quarter  Month  DayofMonth  DayOfWeek  FlightDate  \\\n",
       "0     1295781  1998        2      4           2          4  1998-04-02   \n",
       "1     1125375  2013        2      5          13          1  2013-05-13   \n",
       "2      118824  1993        3      9          25          6  1993-09-25   \n",
       "3      634825  1994        4     11          12          6  1994-11-12   \n",
       "4     1888125  2017        3      8          17          4  2017-08-17   \n",
       "\n",
       "  Reporting_Airline  DOT_ID_Reporting_Airline IATA_CODE_Reporting_Airline  \\\n",
       "0                AS                     19930                          AS   \n",
       "1                EV                     20366                          EV   \n",
       "2                UA                     19977                          UA   \n",
       "3                HP                     19991                          HP   \n",
       "4                UA                     19977                          UA   \n",
       "\n",
       "   ... Div4WheelsOff  Div4TailNum  Div5Airport  Div5AirportID  \\\n",
       "0  ...           NaN          NaN          NaN            NaN   \n",
       "1  ...           NaN          NaN          NaN            NaN   \n",
       "2  ...           NaN          NaN          NaN            NaN   \n",
       "3  ...           NaN          NaN          NaN            NaN   \n",
       "4  ...           NaN          NaN          NaN            NaN   \n",
       "\n",
       "   Div5AirportSeqID Div5WheelsOn Div5TotalGTime Div5LongestGTime  \\\n",
       "0               NaN          NaN            NaN              NaN   \n",
       "1               NaN          NaN            NaN              NaN   \n",
       "2               NaN          NaN            NaN              NaN   \n",
       "3               NaN          NaN            NaN              NaN   \n",
       "4               NaN          NaN            NaN              NaN   \n",
       "\n",
       "   Div5WheelsOff Div5TailNum  \n",
       "0            NaN         NaN  \n",
       "1            NaN         NaN  \n",
       "2            NaN         NaN  \n",
       "3            NaN         NaN  \n",
       "4            NaN         NaN  \n",
       "\n",
       "[5 rows x 110 columns]"
      ]
     },
     "execution_count": 81,
     "metadata": {},
     "output_type": "execute_result"
    }
   ],
   "source": [
    "airline_data =  pd.read_csv('https://cf-courses-data.s3.us.cloud-object-storage.appdomain.cloud/IBMDeveloperSkillsNetwork-DV0101EN-SkillsNetwork/Data%20Files/airline_data.csv', \n",
    "                            encoding = \"ISO-8859-1\", dtype={'Div1Airport': str, 'Div1TailNum': str, 'Div2Airport': str, 'Div2TailNum': str})\n",
    "airline_data.head()"
   ]
  },
  {
   "cell_type": "code",
   "execution_count": 83,
   "id": "31822129-90df-45f2-a3d0-0e2dd01603c3",
   "metadata": {},
   "outputs": [
    {
     "data": {
      "text/plain": [
       "(27000, 110)"
      ]
     },
     "execution_count": 83,
     "metadata": {},
     "output_type": "execute_result"
    }
   ],
   "source": [
    "airline_data.shape"
   ]
  },
  {
   "cell_type": "code",
   "execution_count": 280,
   "id": "7c80f396-c863-4579-be9c-3afb33d737af",
   "metadata": {},
   "outputs": [
    {
     "data": {
      "text/plain": [
       "(500, 110)"
      ]
     },
     "execution_count": 280,
     "metadata": {},
     "output_type": "execute_result"
    }
   ],
   "source": [
    "data = airline_data.sample(n=500, random_state=42)\n",
    "data.shape"
   ]
  },
  {
   "cell_type": "code",
   "execution_count": 222,
   "id": "ee86ad1c-820b-4ad6-92ab-8f5e16509748",
   "metadata": {},
   "outputs": [
    {
     "data": {
      "text/plain": [
       "5312      3\n",
       "18357     8\n",
       "6428      7\n",
       "15414    10\n",
       "10610     2\n",
       "         ..\n",
       "18946     7\n",
       "16291     6\n",
       "21818     3\n",
       "24116     4\n",
       "16705     1\n",
       "Name: Month, Length: 500, dtype: int64"
      ]
     },
     "execution_count": 222,
     "metadata": {},
     "output_type": "execute_result"
    }
   ],
   "source": [
    "data.Month"
   ]
  },
  {
   "cell_type": "markdown",
   "id": "1153f7fe-316e-4a89-accc-ce6bef95b9d5",
   "metadata": {},
   "source": [
    "### Plot 8"
   ]
  },
  {
   "cell_type": "code",
   "execution_count": 284,
   "id": "44a9f8e1-1bf4-4af3-8ae6-4a7714bc01b3",
   "metadata": {},
   "outputs": [],
   "source": [
    "px.scatter(data_frame=data, title=\"Distance vs Departure Time\", x=\"Distance\", y=\"DepTime\", color_discrete_sequence=[\"red\"])"
   ]
  },
  {
   "cell_type": "markdown",
   "id": "d21a407d-e21c-43e1-bbe0-3b3736a6b169",
   "metadata": {},
   "source": [
    "### Plot 9"
   ]
  },
  {
   "cell_type": "code",
   "execution_count": 286,
   "id": "a0ef01a9-9dde-4625-8f03-7eac5605fdab",
   "metadata": {},
   "outputs": [],
   "source": [
    "df= data.groupby(\"Month\")[\"ArrDelay\"].mean().reset_index()\n",
    "px.line(data_frame=df, title=\"Month vs Average Flight Delay Time\", x=\"Month\", y=\"ArrDelay\", color_discrete_sequence=[\"green\"])"
   ]
  },
  {
   "cell_type": "markdown",
   "id": "83bc8653-4adb-4e82-bde8-2f220ef1185e",
   "metadata": {},
   "source": [
    "### Plot 10"
   ]
  },
  {
   "cell_type": "code",
   "execution_count": 288,
   "id": "51a4fb86-7cf4-48c4-911f-99e8fd9ba97e",
   "metadata": {},
   "outputs": [],
   "source": [
    "df2= data.groupby(\"DestState\")[\"Flights\"].sum().reset_index()\n",
    "px.bar(data_frame=df2, x=\"DestState\", y=\"Flights\", title=\"Total number of flights to the destination state split by reporting air\")"
   ]
  },
  {
   "cell_type": "markdown",
   "id": "dc4d57e4-1886-4085-bd57-cb5c66bb2e07",
   "metadata": {},
   "source": [
    "### Plot 11"
   ]
  },
  {
   "cell_type": "code",
   "execution_count": 290,
   "id": "27360930-92ad-4c72-b3ca-b1f44afbdc45",
   "metadata": {},
   "outputs": [],
   "source": [
    "data[\"ArrDelay\"] = data[\"ArrDelay\"].fillna(0)\n",
    "px.histogram(title=\"Total number of flights to the destination state split by reporting air\", x=\"ArrDelay\", data_frame=data)"
   ]
  },
  {
   "cell_type": "markdown",
   "id": "50d531b6-9758-4e04-bc62-e7d2cb500ecb",
   "metadata": {},
   "source": [
    "### Plot 12"
   ]
  },
  {
   "cell_type": "code",
   "execution_count": 292,
   "id": "38ea6304-d2a0-4513-9c1b-0e9903e0c195",
   "metadata": {},
   "outputs": [],
   "source": [
    "df4 = data.groupby(\"Reporting_Airline\")[\"Flights\"].sum().reset_index()\n",
    "px.scatter(x=\"Reporting_Airline\", y=\"Flights\", data_frame=df4, size=\"Flights\", size_max=70, hover_name=\"Reporting_Airline\")"
   ]
  },
  {
   "cell_type": "markdown",
   "id": "60bebd34-df21-4434-b02f-ea4a733c5fb9",
   "metadata": {},
   "source": [
    "### Plot 13"
   ]
  },
  {
   "cell_type": "code",
   "execution_count": 294,
   "id": "7a8e366b-c099-4f59-9fdb-1d393f636404",
   "metadata": {},
   "outputs": [],
   "source": [
    "df5= data[\"DestCityName\"].value_counts().head(10).reset_index()\n",
    "px.pie(values=\"count\", names=\"DestCityName\", title=\"DestCityName proportion\", data_frame=df5)"
   ]
  },
  {
   "cell_type": "markdown",
   "id": "94bcc6a1-b688-439a-ba23-3db9db82d7ad",
   "metadata": {},
   "source": [
    "### Plot 14"
   ]
  },
  {
   "cell_type": "code",
   "execution_count": 296,
   "id": "fb1ab905-f7e4-470a-9c23-b8a13a08924a",
   "metadata": {},
   "outputs": [],
   "source": [
    "grouped_data = data.groupby(['Month', 'DistanceGroup']).size().reset_index(name='Count')\n",
    "px.sunburst(grouped_data, path=['Month', 'DistanceGroup'], values='Count', title=\"Distance group proportion by month\")"
   ]
  },
  {
   "cell_type": "markdown",
   "id": "feb15f78-2fb8-43c0-b539-a0f21b2a2650",
   "metadata": {},
   "source": [
    "### Plot 15"
   ]
  },
  {
   "cell_type": "code",
   "execution_count": 298,
   "id": "e8299185-71e0-4ae9-8870-6eaa1330e47e",
   "metadata": {},
   "outputs": [],
   "source": [
    "grouped_data1 = data.groupby(['Month', 'DestStateName'])[\"Flights\"].sum().reset_index()\n",
    "px.sunburst(grouped_data1, path=['Month', 'DestStateName'], values='Flights', title=\"Flight Distribution Hierarchy\")"
   ]
  }
 ],
 "metadata": {
  "kernelspec": {
   "display_name": "Python 3 (ipykernel)",
   "language": "python",
   "name": "python3"
  },
  "language_info": {
   "codemirror_mode": {
    "name": "ipython",
    "version": 3
   },
   "file_extension": ".py",
   "mimetype": "text/x-python",
   "name": "python",
   "nbconvert_exporter": "python",
   "pygments_lexer": "ipython3",
   "version": "3.12.4"
  }
 },
 "nbformat": 4,
 "nbformat_minor": 5
}
